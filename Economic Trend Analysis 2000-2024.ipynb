{
 "cells": [
  {
   "cell_type": "markdown",
   "id": "701efb8c",
   "metadata": {},
   "source": [
    "# Economic Trend Analysis from 2000-2024"
   ]
  },
  {
   "cell_type": "markdown",
   "id": "f3d8582b",
   "metadata": {},
   "source": [
    "### Importing and Reading Files"
   ]
  },
  {
   "cell_type": "code",
   "execution_count": 9,
   "id": "a65807ee",
   "metadata": {},
   "outputs": [],
   "source": [
    "import pandas as pd"
   ]
  },
  {
   "cell_type": "code",
   "execution_count": 10,
   "id": "ae03a41f",
   "metadata": {},
   "outputs": [],
   "source": [
    "# File paths for the uploaded files \n",
    "files = {\n",
    "    \"Federal_Funds_Effective_Rate\": r\"C:\\Users\\AKKem\\OneDrive\\Desktop\\Data Analysis Modules\\Projects\\Economic_Trend_Analysis\\Resources\\Federal Funds Effective Rate.csv\",\n",
    "    \"GDP\": r\"C:\\Users\\AKKem\\OneDrive\\Desktop\\Data Analysis Modules\\Projects\\Economic_Trend_Analysis\\Resources\\GDP.csv\",\n",
    "    \"Median_CPI\": r\"C:\\Users\\AKKem\\OneDrive\\Desktop\\Data Analysis Modules\\Projects\\Economic_Trend_Analysis\\Resources\\Median CPI.csv\",\n",
    "    \"sp500_yahoo_csv\": r\"C:\\Users\\AKKem\\OneDrive\\Desktop\\Data Analysis Modules\\Projects\\Economic_Trend_Analysis\\Resources\\sp500 yahoo.csv\",\n",
    "    \"unemployment_rate\": r\"C:\\Users\\AKKem\\OneDrive\\Desktop\\Data Analysis Modules\\Projects\\Economic_Trend_Analysis\\Resources\\unemployment_rate.csv\"\n",
    "}\n"
   ]
  },
  {
   "cell_type": "code",
   "execution_count": 11,
   "id": "49627ef3",
   "metadata": {},
   "outputs": [],
   "source": [
    "# Function to read the files and capitalize column names\n",
    "def read_and_capitalize(file_path):\n",
    "    df = pd.read_csv(file_path)\n",
    "    df.columns = df.columns.str.upper().str.strip()  # Capitalize and strip column names\n",
    "    return df"
   ]
  },
  {
   "cell_type": "code",
   "execution_count": 12,
   "id": "71bcaea7",
   "metadata": {},
   "outputs": [],
   "source": [
    "# Reading and capitalizing all datasets\n",
    "federal_funds_rate = read_and_capitalize(files[\"Federal_Funds_Effective_Rate\"])\n",
    "gdp = read_and_capitalize(files[\"GDP\"])\n",
    "median_cpi = read_and_capitalize(files[\"Median_CPI\"])\n",
    "sp500 = read_and_capitalize(files[\"sp500_yahoo_csv\"])\n",
    "unemployment_rate = read_and_capitalize(files[\"unemployment_rate\"])"
   ]
  },
  {
   "cell_type": "code",
   "execution_count": 13,
   "id": "25df831f",
   "metadata": {},
   "outputs": [
    {
     "data": {
      "text/plain": [
       "{'Federal Funds Effective Rate':          DATE   DFF\n",
       " 0  2000-01-01  3.99\n",
       " 1  2000-01-02  3.99\n",
       " 2  2000-01-03  5.43\n",
       " 3  2000-01-04  5.38\n",
       " 4  2000-01-05  5.41,\n",
       " 'GDP:':          DATE        GDP\n",
       " 0  2000-01-01  10002.179\n",
       " 1  2000-04-01  10247.720\n",
       " 2  2000-07-01  10318.165\n",
       " 3  2000-10-01  10435.744\n",
       " 4  2001-01-01  10470.231,\n",
       " 'Median CPI':          DATE  MEDCPIM158SFRBCLE\n",
       " 0  2000-01-01           3.851771\n",
       " 1  2000-02-01           2.785584\n",
       " 2  2000-03-01           3.416809\n",
       " 3  2000-04-01           2.276901\n",
       " 4  2000-05-01           2.853534,\n",
       " 'S&P500':         DATE      OPEN      HIGH       LOW     CLOSE ADJ CLOSE         VOLUME\n",
       " 0  29-Dec-23  4,782.88  4,788.43  4,751.99  4,769.83  4,769.83  3,126,060,000\n",
       " 1  28-Dec-23  4,786.44  4,793.30  4,780.98  4,783.35  4,783.35  2,698,860,000\n",
       " 2  27-Dec-23  4,773.45  4,785.39  4,768.90  4,781.58  4,781.58  2,748,450,000\n",
       " 3  26-Dec-23  4,758.86  4,784.72  4,758.45  4,774.75  4,774.75  2,513,910,000\n",
       " 4  22-Dec-23  4,753.92  4,772.94  4,736.77  4,754.63  4,754.63  3,046,770,000,\n",
       " 'Unemployment_Rate':          DATE  UNRATE\n",
       " 0  2000-01-01     4.0\n",
       " 1  2000-02-01     4.1\n",
       " 2  2000-03-01     4.0\n",
       " 3  2000-04-01     3.8\n",
       " 4  2000-05-01     4.0}"
      ]
     },
     "execution_count": 13,
     "metadata": {},
     "output_type": "execute_result"
    }
   ],
   "source": [
    "# Check the head of each file to understand structure \n",
    "{\n",
    "    \"Federal Funds Effective Rate\": federal_funds_rate.head(),\n",
    "    \"GDP:\": gdp.head(),\n",
    "    \"Median CPI\": median_cpi.head(),\n",
    "    \"S&P500\": sp500.head(),\n",
    "    \"Unemployment_Rate\": unemployment_rate.head()\n",
    "    \n",
    "}"
   ]
  },
  {
   "cell_type": "markdown",
   "id": "aa762d0e",
   "metadata": {},
   "source": [
    "### Cleaning the Data"
   ]
  },
  {
   "cell_type": "code",
   "execution_count": 14,
   "id": "213a2b2e",
   "metadata": {},
   "outputs": [
    {
     "ename": "OverflowError",
     "evalue": "Python int too large to convert to C long",
     "output_type": "error",
     "traceback": [
      "\u001b[1;31m---------------------------------------------------------------------------\u001b[0m",
      "\u001b[1;31mOverflowError\u001b[0m                             Traceback (most recent call last)",
      "Cell \u001b[1;32mIn[14], line 11\u001b[0m\n\u001b[0;32m      8\u001b[0m sp500[\u001b[38;5;124m\"\u001b[39m\u001b[38;5;124mADJ CLOSE\u001b[39m\u001b[38;5;124m\"\u001b[39m] \u001b[38;5;241m=\u001b[39m sp500[\u001b[38;5;124m\"\u001b[39m\u001b[38;5;124mADJ CLOSE\u001b[39m\u001b[38;5;124m\"\u001b[39m]\u001b[38;5;241m.\u001b[39mstr\u001b[38;5;241m.\u001b[39mreplace(\u001b[38;5;124m\"\u001b[39m\u001b[38;5;124m,\u001b[39m\u001b[38;5;124m\"\u001b[39m, \u001b[38;5;124m\"\u001b[39m\u001b[38;5;124m\"\u001b[39m)\u001b[38;5;241m.\u001b[39mastype(\u001b[38;5;28mfloat\u001b[39m)\n\u001b[0;32m     10\u001b[0m \u001b[38;5;66;03m# Ensure that 'VOLUME' is an integer after removing commas\u001b[39;00m\n\u001b[1;32m---> 11\u001b[0m sp500[\u001b[38;5;124m\"\u001b[39m\u001b[38;5;124mVOLUME\u001b[39m\u001b[38;5;124m\"\u001b[39m] \u001b[38;5;241m=\u001b[39m \u001b[43msp500\u001b[49m\u001b[43m[\u001b[49m\u001b[38;5;124;43m\"\u001b[39;49m\u001b[38;5;124;43mVOLUME\u001b[39;49m\u001b[38;5;124;43m\"\u001b[39;49m\u001b[43m]\u001b[49m\u001b[38;5;241;43m.\u001b[39;49m\u001b[43mstr\u001b[49m\u001b[38;5;241;43m.\u001b[39;49m\u001b[43mreplace\u001b[49m\u001b[43m(\u001b[49m\u001b[38;5;124;43m\"\u001b[39;49m\u001b[38;5;124;43m,\u001b[39;49m\u001b[38;5;124;43m\"\u001b[39;49m\u001b[43m,\u001b[49m\u001b[43m \u001b[49m\u001b[38;5;124;43m\"\u001b[39;49m\u001b[38;5;124;43m\"\u001b[39;49m\u001b[43m)\u001b[49m\u001b[38;5;241;43m.\u001b[39;49m\u001b[43mastype\u001b[49m\u001b[43m(\u001b[49m\u001b[38;5;28;43mint\u001b[39;49m\u001b[43m)\u001b[49m\n\u001b[0;32m     13\u001b[0m \u001b[38;5;66;03m# Standardizing date formats\u001b[39;00m\n\u001b[0;32m     14\u001b[0m \u001b[38;5;28;01mfor\u001b[39;00m df \u001b[38;5;129;01min\u001b[39;00m [federal_funds_rate, gdp, median_cpi, unemployment_rate, sp500]:\n",
      "File \u001b[1;32m~\\anaconda3\\envs\\dev\\lib\\site-packages\\pandas\\core\\generic.py:6324\u001b[0m, in \u001b[0;36mNDFrame.astype\u001b[1;34m(self, dtype, copy, errors)\u001b[0m\n\u001b[0;32m   6317\u001b[0m     results \u001b[38;5;241m=\u001b[39m [\n\u001b[0;32m   6318\u001b[0m         \u001b[38;5;28mself\u001b[39m\u001b[38;5;241m.\u001b[39miloc[:, i]\u001b[38;5;241m.\u001b[39mastype(dtype, copy\u001b[38;5;241m=\u001b[39mcopy)\n\u001b[0;32m   6319\u001b[0m         \u001b[38;5;28;01mfor\u001b[39;00m i \u001b[38;5;129;01min\u001b[39;00m \u001b[38;5;28mrange\u001b[39m(\u001b[38;5;28mlen\u001b[39m(\u001b[38;5;28mself\u001b[39m\u001b[38;5;241m.\u001b[39mcolumns))\n\u001b[0;32m   6320\u001b[0m     ]\n\u001b[0;32m   6322\u001b[0m \u001b[38;5;28;01melse\u001b[39;00m:\n\u001b[0;32m   6323\u001b[0m     \u001b[38;5;66;03m# else, only a single dtype is given\u001b[39;00m\n\u001b[1;32m-> 6324\u001b[0m     new_data \u001b[38;5;241m=\u001b[39m \u001b[38;5;28;43mself\u001b[39;49m\u001b[38;5;241;43m.\u001b[39;49m\u001b[43m_mgr\u001b[49m\u001b[38;5;241;43m.\u001b[39;49m\u001b[43mastype\u001b[49m\u001b[43m(\u001b[49m\u001b[43mdtype\u001b[49m\u001b[38;5;241;43m=\u001b[39;49m\u001b[43mdtype\u001b[49m\u001b[43m,\u001b[49m\u001b[43m \u001b[49m\u001b[43mcopy\u001b[49m\u001b[38;5;241;43m=\u001b[39;49m\u001b[43mcopy\u001b[49m\u001b[43m,\u001b[49m\u001b[43m \u001b[49m\u001b[43merrors\u001b[49m\u001b[38;5;241;43m=\u001b[39;49m\u001b[43merrors\u001b[49m\u001b[43m)\u001b[49m\n\u001b[0;32m   6325\u001b[0m     \u001b[38;5;28;01mreturn\u001b[39;00m \u001b[38;5;28mself\u001b[39m\u001b[38;5;241m.\u001b[39m_constructor(new_data)\u001b[38;5;241m.\u001b[39m__finalize__(\u001b[38;5;28mself\u001b[39m, method\u001b[38;5;241m=\u001b[39m\u001b[38;5;124m\"\u001b[39m\u001b[38;5;124mastype\u001b[39m\u001b[38;5;124m\"\u001b[39m)\n\u001b[0;32m   6327\u001b[0m \u001b[38;5;66;03m# GH 33113: handle empty frame or series\u001b[39;00m\n",
      "File \u001b[1;32m~\\anaconda3\\envs\\dev\\lib\\site-packages\\pandas\\core\\internals\\managers.py:451\u001b[0m, in \u001b[0;36mBaseBlockManager.astype\u001b[1;34m(self, dtype, copy, errors)\u001b[0m\n\u001b[0;32m    448\u001b[0m \u001b[38;5;28;01melif\u001b[39;00m using_copy_on_write():\n\u001b[0;32m    449\u001b[0m     copy \u001b[38;5;241m=\u001b[39m \u001b[38;5;28;01mFalse\u001b[39;00m\n\u001b[1;32m--> 451\u001b[0m \u001b[38;5;28;01mreturn\u001b[39;00m \u001b[38;5;28;43mself\u001b[39;49m\u001b[38;5;241;43m.\u001b[39;49m\u001b[43mapply\u001b[49m\u001b[43m(\u001b[49m\n\u001b[0;32m    452\u001b[0m \u001b[43m    \u001b[49m\u001b[38;5;124;43m\"\u001b[39;49m\u001b[38;5;124;43mastype\u001b[39;49m\u001b[38;5;124;43m\"\u001b[39;49m\u001b[43m,\u001b[49m\n\u001b[0;32m    453\u001b[0m \u001b[43m    \u001b[49m\u001b[43mdtype\u001b[49m\u001b[38;5;241;43m=\u001b[39;49m\u001b[43mdtype\u001b[49m\u001b[43m,\u001b[49m\n\u001b[0;32m    454\u001b[0m \u001b[43m    \u001b[49m\u001b[43mcopy\u001b[49m\u001b[38;5;241;43m=\u001b[39;49m\u001b[43mcopy\u001b[49m\u001b[43m,\u001b[49m\n\u001b[0;32m    455\u001b[0m \u001b[43m    \u001b[49m\u001b[43merrors\u001b[49m\u001b[38;5;241;43m=\u001b[39;49m\u001b[43merrors\u001b[49m\u001b[43m,\u001b[49m\n\u001b[0;32m    456\u001b[0m \u001b[43m    \u001b[49m\u001b[43musing_cow\u001b[49m\u001b[38;5;241;43m=\u001b[39;49m\u001b[43musing_copy_on_write\u001b[49m\u001b[43m(\u001b[49m\u001b[43m)\u001b[49m\u001b[43m,\u001b[49m\n\u001b[0;32m    457\u001b[0m \u001b[43m\u001b[49m\u001b[43m)\u001b[49m\n",
      "File \u001b[1;32m~\\anaconda3\\envs\\dev\\lib\\site-packages\\pandas\\core\\internals\\managers.py:352\u001b[0m, in \u001b[0;36mBaseBlockManager.apply\u001b[1;34m(self, f, align_keys, **kwargs)\u001b[0m\n\u001b[0;32m    350\u001b[0m         applied \u001b[38;5;241m=\u001b[39m b\u001b[38;5;241m.\u001b[39mapply(f, \u001b[38;5;241m*\u001b[39m\u001b[38;5;241m*\u001b[39mkwargs)\n\u001b[0;32m    351\u001b[0m     \u001b[38;5;28;01melse\u001b[39;00m:\n\u001b[1;32m--> 352\u001b[0m         applied \u001b[38;5;241m=\u001b[39m \u001b[38;5;28mgetattr\u001b[39m(b, f)(\u001b[38;5;241m*\u001b[39m\u001b[38;5;241m*\u001b[39mkwargs)\n\u001b[0;32m    353\u001b[0m     result_blocks \u001b[38;5;241m=\u001b[39m extend_blocks(applied, result_blocks)\n\u001b[0;32m    355\u001b[0m out \u001b[38;5;241m=\u001b[39m \u001b[38;5;28mtype\u001b[39m(\u001b[38;5;28mself\u001b[39m)\u001b[38;5;241m.\u001b[39mfrom_blocks(result_blocks, \u001b[38;5;28mself\u001b[39m\u001b[38;5;241m.\u001b[39maxes)\n",
      "File \u001b[1;32m~\\anaconda3\\envs\\dev\\lib\\site-packages\\pandas\\core\\internals\\blocks.py:511\u001b[0m, in \u001b[0;36mBlock.astype\u001b[1;34m(self, dtype, copy, errors, using_cow)\u001b[0m\n\u001b[0;32m    491\u001b[0m \u001b[38;5;250m\u001b[39m\u001b[38;5;124;03m\"\"\"\u001b[39;00m\n\u001b[0;32m    492\u001b[0m \u001b[38;5;124;03mCoerce to the new dtype.\u001b[39;00m\n\u001b[0;32m    493\u001b[0m \n\u001b[1;32m   (...)\u001b[0m\n\u001b[0;32m    507\u001b[0m \u001b[38;5;124;03mBlock\u001b[39;00m\n\u001b[0;32m    508\u001b[0m \u001b[38;5;124;03m\"\"\"\u001b[39;00m\n\u001b[0;32m    509\u001b[0m values \u001b[38;5;241m=\u001b[39m \u001b[38;5;28mself\u001b[39m\u001b[38;5;241m.\u001b[39mvalues\n\u001b[1;32m--> 511\u001b[0m new_values \u001b[38;5;241m=\u001b[39m \u001b[43mastype_array_safe\u001b[49m\u001b[43m(\u001b[49m\u001b[43mvalues\u001b[49m\u001b[43m,\u001b[49m\u001b[43m \u001b[49m\u001b[43mdtype\u001b[49m\u001b[43m,\u001b[49m\u001b[43m \u001b[49m\u001b[43mcopy\u001b[49m\u001b[38;5;241;43m=\u001b[39;49m\u001b[43mcopy\u001b[49m\u001b[43m,\u001b[49m\u001b[43m \u001b[49m\u001b[43merrors\u001b[49m\u001b[38;5;241;43m=\u001b[39;49m\u001b[43merrors\u001b[49m\u001b[43m)\u001b[49m\n\u001b[0;32m    513\u001b[0m new_values \u001b[38;5;241m=\u001b[39m maybe_coerce_values(new_values)\n\u001b[0;32m    515\u001b[0m refs \u001b[38;5;241m=\u001b[39m \u001b[38;5;28;01mNone\u001b[39;00m\n",
      "File \u001b[1;32m~\\anaconda3\\envs\\dev\\lib\\site-packages\\pandas\\core\\dtypes\\astype.py:242\u001b[0m, in \u001b[0;36mastype_array_safe\u001b[1;34m(values, dtype, copy, errors)\u001b[0m\n\u001b[0;32m    239\u001b[0m     dtype \u001b[38;5;241m=\u001b[39m dtype\u001b[38;5;241m.\u001b[39mnumpy_dtype\n\u001b[0;32m    241\u001b[0m \u001b[38;5;28;01mtry\u001b[39;00m:\n\u001b[1;32m--> 242\u001b[0m     new_values \u001b[38;5;241m=\u001b[39m \u001b[43mastype_array\u001b[49m\u001b[43m(\u001b[49m\u001b[43mvalues\u001b[49m\u001b[43m,\u001b[49m\u001b[43m \u001b[49m\u001b[43mdtype\u001b[49m\u001b[43m,\u001b[49m\u001b[43m \u001b[49m\u001b[43mcopy\u001b[49m\u001b[38;5;241;43m=\u001b[39;49m\u001b[43mcopy\u001b[49m\u001b[43m)\u001b[49m\n\u001b[0;32m    243\u001b[0m \u001b[38;5;28;01mexcept\u001b[39;00m (\u001b[38;5;167;01mValueError\u001b[39;00m, \u001b[38;5;167;01mTypeError\u001b[39;00m):\n\u001b[0;32m    244\u001b[0m     \u001b[38;5;66;03m# e.g. _astype_nansafe can fail on object-dtype of strings\u001b[39;00m\n\u001b[0;32m    245\u001b[0m     \u001b[38;5;66;03m#  trying to convert to float\u001b[39;00m\n\u001b[0;32m    246\u001b[0m     \u001b[38;5;28;01mif\u001b[39;00m errors \u001b[38;5;241m==\u001b[39m \u001b[38;5;124m\"\u001b[39m\u001b[38;5;124mignore\u001b[39m\u001b[38;5;124m\"\u001b[39m:\n",
      "File \u001b[1;32m~\\anaconda3\\envs\\dev\\lib\\site-packages\\pandas\\core\\dtypes\\astype.py:187\u001b[0m, in \u001b[0;36mastype_array\u001b[1;34m(values, dtype, copy)\u001b[0m\n\u001b[0;32m    184\u001b[0m     values \u001b[38;5;241m=\u001b[39m values\u001b[38;5;241m.\u001b[39mastype(dtype, copy\u001b[38;5;241m=\u001b[39mcopy)\n\u001b[0;32m    186\u001b[0m \u001b[38;5;28;01melse\u001b[39;00m:\n\u001b[1;32m--> 187\u001b[0m     values \u001b[38;5;241m=\u001b[39m \u001b[43m_astype_nansafe\u001b[49m\u001b[43m(\u001b[49m\u001b[43mvalues\u001b[49m\u001b[43m,\u001b[49m\u001b[43m \u001b[49m\u001b[43mdtype\u001b[49m\u001b[43m,\u001b[49m\u001b[43m \u001b[49m\u001b[43mcopy\u001b[49m\u001b[38;5;241;43m=\u001b[39;49m\u001b[43mcopy\u001b[49m\u001b[43m)\u001b[49m\n\u001b[0;32m    189\u001b[0m \u001b[38;5;66;03m# in pandas we don't store numpy str dtypes, so convert to object\u001b[39;00m\n\u001b[0;32m    190\u001b[0m \u001b[38;5;28;01mif\u001b[39;00m \u001b[38;5;28misinstance\u001b[39m(dtype, np\u001b[38;5;241m.\u001b[39mdtype) \u001b[38;5;129;01mand\u001b[39;00m \u001b[38;5;28missubclass\u001b[39m(values\u001b[38;5;241m.\u001b[39mdtype\u001b[38;5;241m.\u001b[39mtype, \u001b[38;5;28mstr\u001b[39m):\n",
      "File \u001b[1;32m~\\anaconda3\\envs\\dev\\lib\\site-packages\\pandas\\core\\dtypes\\astype.py:138\u001b[0m, in \u001b[0;36m_astype_nansafe\u001b[1;34m(arr, dtype, copy, skipna)\u001b[0m\n\u001b[0;32m    134\u001b[0m     \u001b[38;5;28;01mraise\u001b[39;00m \u001b[38;5;167;01mValueError\u001b[39;00m(msg)\n\u001b[0;32m    136\u001b[0m \u001b[38;5;28;01mif\u001b[39;00m copy \u001b[38;5;129;01mor\u001b[39;00m is_object_dtype(arr\u001b[38;5;241m.\u001b[39mdtype) \u001b[38;5;129;01mor\u001b[39;00m is_object_dtype(dtype):\n\u001b[0;32m    137\u001b[0m     \u001b[38;5;66;03m# Explicit copy, or required since NumPy can't view from / to object.\u001b[39;00m\n\u001b[1;32m--> 138\u001b[0m     \u001b[38;5;28;01mreturn\u001b[39;00m \u001b[43marr\u001b[49m\u001b[38;5;241;43m.\u001b[39;49m\u001b[43mastype\u001b[49m\u001b[43m(\u001b[49m\u001b[43mdtype\u001b[49m\u001b[43m,\u001b[49m\u001b[43m \u001b[49m\u001b[43mcopy\u001b[49m\u001b[38;5;241;43m=\u001b[39;49m\u001b[38;5;28;43;01mTrue\u001b[39;49;00m\u001b[43m)\u001b[49m\n\u001b[0;32m    140\u001b[0m \u001b[38;5;28;01mreturn\u001b[39;00m arr\u001b[38;5;241m.\u001b[39mastype(dtype, copy\u001b[38;5;241m=\u001b[39mcopy)\n",
      "\u001b[1;31mOverflowError\u001b[0m: Python int too large to convert to C long"
     ]
    }
   ],
   "source": [
    "# Clean S&P500 data by removing commas in numbers and stripping quotation marks\n",
    "sp500[\"OPEN\"] = sp500[\"OPEN\"].str.replace(\",\", \"\").astype(float)\n",
    "sp500[\"HIGH\"] = sp500[\"HIGH\"].str.replace(\",\", \"\").astype(float)\n",
    "sp500[\"LOW\"] = sp500[\"LOW\"].str.replace(\",\", \"\").astype(float)\n",
    "\n",
    "# Fixing the 'CLOSE' column by addressing potential extra spaces\n",
    "sp500[\"CLOSE\"] = sp500[\"CLOSE\"].str.replace(\",\", \"\").astype(float)\n",
    "sp500[\"ADJ CLOSE\"] = sp500[\"ADJ CLOSE\"].str.replace(\",\", \"\").astype(float)\n",
    "\n",
    "# Ensure that 'VOLUME' is an integer after removing commas\n",
    "sp500[\"VOLUME\"] = sp500[\"VOLUME\"].str.replace(\",\", \"\").astype(int)\n",
    "\n",
    "# Standardizing date formats\n",
    "for df in [federal_funds_rate, gdp, median_cpi, unemployment_rate, sp500]:\n",
    "    df[\"DATE\"] = pd.to_datetime(df[\"DATE\"], format='%Y-%m-%d', errors='coerce')\n",
    "\n",
    "# Clean column names by removing spaces and special characters\n",
    "sp500.columns = sp500.columns.str.strip()"
   ]
  },
  {
   "cell_type": "code",
   "execution_count": 22,
   "id": "3b0e1be4",
   "metadata": {},
   "outputs": [],
   "source": [
    "# Ensure that 'VOLUME' is an integer after removing commas\n",
    "sp500[\"VOLUME\"] = sp500[\"VOLUME\"].str.replace(\",\", \"\").astype(int)\n",
    "\n",
    "# Standardizing date formats\n",
    "for df in [federal_funds_rate, gdp, median_cpi, unemployment_rate, sp500]:\n",
    "    df[\"DATE\"] = pd.to_datetime(df[\"DATE\"], format='%Y-%m-%d', errors='coerce')"
   ]
  },
  {
   "cell_type": "code",
   "execution_count": 23,
   "id": "80d4498a",
   "metadata": {},
   "outputs": [
    {
     "name": "stdout",
     "output_type": "stream",
     "text": [
      "All cleaned files have been saved successfully to the Resources folder!\n"
     ]
    }
   ],
   "source": [
    "# Clean column names by removing spaces and special characters\n",
    "sp500.columns = sp500.columns.str.strip()\n",
    "\n",
    "# Remove duplicates across all datasets\n",
    "for df in [federal_funds_rate, gdp, median_cpi, sp500, unemployment_rate]:\n",
    "    df.drop_duplicates(inplace=True)"
   ]
  },
  {
   "cell_type": "code",
   "execution_count": null,
   "id": "31a2c07d",
   "metadata": {},
   "outputs": [],
   "source": [
    "# Handling missing values by forward filling\n",
    "for df in [federal_funds_rate, gdp, median_cpi, sp500, unemployment_rate]:\n",
    "    df.fillna(method='ffill', inplace=True)\n"
   ]
  },
  {
   "cell_type": "code",
   "execution_count": null,
   "id": "7d603d0b",
   "metadata": {},
   "outputs": [],
   "source": [
    "# Handling missing values by forward filling\n",
    "for df in [federal_funds_rate, gdp, median_cpi, sp500, unemployment_rate]:\n",
    "    df.fillna(method='ffill', inplace=True)\n",
    "All cleaned files have been saved successfully to the Resources folder!"
   ]
  },
  {
   "cell_type": "markdown",
   "id": "2c3a1b8d",
   "metadata": {},
   "source": [
    "### Exploratory Data Analysis"
   ]
  },
  {
   "cell_type": "code",
   "execution_count": null,
   "id": "1131774c",
   "metadata": {},
   "outputs": [],
   "source": []
  },
  {
   "cell_type": "code",
   "execution_count": null,
   "id": "6133b63b",
   "metadata": {},
   "outputs": [],
   "source": []
  }
 ],
 "metadata": {
  "kernelspec": {
   "display_name": "Python 3 (ipykernel)",
   "language": "python",
   "name": "python3"
  },
  "language_info": {
   "codemirror_mode": {
    "name": "ipython",
    "version": 3
   },
   "file_extension": ".py",
   "mimetype": "text/x-python",
   "name": "python",
   "nbconvert_exporter": "python",
   "pygments_lexer": "ipython3",
   "version": "3.10.13"
  }
 },
 "nbformat": 4,
 "nbformat_minor": 5
}
