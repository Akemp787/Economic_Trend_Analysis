{
 "cells": [
  {
   "cell_type": "markdown",
   "id": "701efb8c",
   "metadata": {},
   "source": [
    "# Economic Trend Analysis from 2000-2024"
   ]
  },
  {
   "cell_type": "markdown",
   "id": "f3d8582b",
   "metadata": {},
   "source": [
    "### Importing and Reading Files"
   ]
  },
  {
   "cell_type": "code",
   "execution_count": 26,
   "id": "a65807ee",
   "metadata": {},
   "outputs": [],
   "source": [
    "import pandas as pd"
   ]
  },
  {
   "cell_type": "code",
   "execution_count": 27,
   "id": "ae03a41f",
   "metadata": {},
   "outputs": [],
   "source": [
    "# File paths for the uploaded files \n",
    "files = {\n",
    "    \"Federal_Funds_Effective_Rate\": r\"C:\\Users\\AKKem\\OneDrive\\Desktop\\Data Analysis Modules\\Projects\\Economic_Trend_Analysis\\Resources\\Federal Funds Effective Rate.csv\",\n",
    "    \"GDP\": r\"C:\\Users\\AKKem\\OneDrive\\Desktop\\Data Analysis Modules\\Projects\\Economic_Trend_Analysis\\Resources\\GDP.csv\",\n",
    "    \"Median_CPI\": r\"C:\\Users\\AKKem\\OneDrive\\Desktop\\Data Analysis Modules\\Projects\\Economic_Trend_Analysis\\Resources\\Median CPI.csv\",\n",
    "    \"sp500_yahoo_csv\": r\"C:\\Users\\AKKem\\OneDrive\\Desktop\\Data Analysis Modules\\Projects\\Economic_Trend_Analysis\\Resources\\sp500 yahoo.csv\",\n",
    "    \"unemployment_rate\": r\"C:\\Users\\AKKem\\OneDrive\\Desktop\\Data Analysis Modules\\Projects\\Economic_Trend_Analysis\\Resources\\unemployment_rate.csv\"\n",
    "}"
   ]
  },
  {
   "cell_type": "code",
   "execution_count": 28,
   "id": "49627ef3",
   "metadata": {},
   "outputs": [],
   "source": [
    "# Function to read the files and capitalize column names\n",
    "def read_and_capitalize(file_path):\n",
    "    df = pd.read_csv(file_path)\n",
    "    df.columns = df.columns.str.upper()  # Capitalize all column names\n",
    "    return df\n"
   ]
  },
  {
   "cell_type": "code",
   "execution_count": 29,
   "id": "71bcaea7",
   "metadata": {},
   "outputs": [],
   "source": [
    "# Reading and capitalizing all datasets\n",
    "federal_funds_rate = read_and_capitalize(files[\"Federal_Funds_Effective_Rate\"])\n",
    "gdp = read_and_capitalize(files[\"GDP\"])\n",
    "median_cpi = read_and_capitalize(files[\"Median_CPI\"])\n",
    "sp500 = read_and_capitalize(files[\"sp500_yahoo_csv\"])\n",
    "unemployment_rate = read_and_capitalize(files[\"unemployment_rate\"])"
   ]
  },
  {
   "cell_type": "code",
   "execution_count": 30,
   "id": "25df831f",
   "metadata": {},
   "outputs": [
    {
     "data": {
      "text/plain": [
       "{'Federal Funds Effective Rate':          DATE   DFF\n",
       " 0  2000-01-01  3.99\n",
       " 1  2000-01-02  3.99\n",
       " 2  2000-01-03  5.43\n",
       " 3  2000-01-04  5.38\n",
       " 4  2000-01-05  5.41,\n",
       " 'GDP:':          DATE        GDP\n",
       " 0  2000-01-01  10002.179\n",
       " 1  2000-04-01  10247.720\n",
       " 2  2000-07-01  10318.165\n",
       " 3  2000-10-01  10435.744\n",
       " 4  2001-01-01  10470.231,\n",
       " 'Median CPI':          DATE  MEDCPIM158SFRBCLE\n",
       " 0  2000-01-01           3.851771\n",
       " 1  2000-02-01           2.785584\n",
       " 2  2000-03-01           3.416809\n",
       " 3  2000-04-01           2.276901\n",
       " 4  2000-05-01           2.853534,\n",
       " 'S&P500':         DATE      OPEN      HIGH       LOW    CLOSE  ADJ CLOSE          VOLUME\n",
       " 0  29-Dec-23  4,782.88  4,788.43  4,751.99  4,769.83   4,769.83  3,126,060,000\n",
       " 1  28-Dec-23  4,786.44  4,793.30  4,780.98  4,783.35   4,783.35  2,698,860,000\n",
       " 2  27-Dec-23  4,773.45  4,785.39  4,768.90  4,781.58   4,781.58  2,748,450,000\n",
       " 3  26-Dec-23  4,758.86  4,784.72  4,758.45  4,774.75   4,774.75  2,513,910,000\n",
       " 4  22-Dec-23  4,753.92  4,772.94  4,736.77  4,754.63   4,754.63  3,046,770,000,\n",
       " 'Unemployment_Rate':          DATE  UNRATE\n",
       " 0  2000-01-01     4.0\n",
       " 1  2000-02-01     4.1\n",
       " 2  2000-03-01     4.0\n",
       " 3  2000-04-01     3.8\n",
       " 4  2000-05-01     4.0}"
      ]
     },
     "execution_count": 30,
     "metadata": {},
     "output_type": "execute_result"
    }
   ],
   "source": [
    "# Check the head of each file to understand structure \n",
    "{\n",
    "    \"Federal Funds Effective Rate\": federal_funds_rate.head(),\n",
    "    \"GDP:\": gdp.head(),\n",
    "    \"Median CPI\": median_cpi.head(),\n",
    "    \"S&P500\": sp500.head(),\n",
    "    \"Unemployment_Rate\": unemployment_rate.head()\n",
    "    \n",
    "}"
   ]
  },
  {
   "cell_type": "markdown",
   "id": "aa762d0e",
   "metadata": {},
   "source": [
    "### Cleaning the Data"
   ]
  },
  {
   "cell_type": "code",
   "execution_count": 31,
   "id": "213a2b2e",
   "metadata": {},
   "outputs": [],
   "source": [
    "# Standardizing column names for consistency and renaming if necessary\n",
    "sp500.rename(columns={\"DATE\": \"DATE\"}, inplace=True)\n",
    "median_cpi.rename(columns={\"MEDCPIM158SFRBCLE\": \"MEDIAN_CPI\"}, inplace=True)\n",
    "\n",
    "# Standardizing date formats\n",
    "for df in [federal_funds_rate, gdp, median_cpi, unemployment_rate]:\n",
    "    df[\"DATE\"] = pd.to_datetime(df[\"DATE\"])"
   ]
  },
  {
   "cell_type": "code",
   "execution_count": 36,
   "id": "0cf6e61b",
   "metadata": {},
   "outputs": [],
   "source": [
    "# Remove duplicates across all datasets\n",
    "for df in [federal_funds_rate, gdp, median_cpi, sp500, unemployment_rate]:\n",
    "    df.drop_duplicates(inplace=True)"
   ]
  },
  {
   "cell_type": "code",
   "execution_count": 37,
   "id": "3b0e1be4",
   "metadata": {},
   "outputs": [],
   "source": [
    "# Handling missing values by forward filling\n",
    "for df in [federal_funds_rate, gdp, median_cpi, sp500, unemployment_rate]:\n",
    "    df.fillna(method='ffill', inplace=True)\n",
    "\n"
   ]
  },
  {
   "cell_type": "code",
   "execution_count": 38,
   "id": "80d4498a",
   "metadata": {},
   "outputs": [
    {
     "name": "stdout",
     "output_type": "stream",
     "text": [
      "All cleaned files have been saved successfully to the Resources folder!\n"
     ]
    }
   ],
   "source": [
    "# Define output paths for saving cleaned files\n",
    "output_paths = {\n",
    "    \"Federal_Funds_Effective_Rate\": r\"C:\\Users\\AKKem\\OneDrive\\Desktop\\Data Analysis Modules\\Projects\\Economic_Trend_Analysis\\Resources\\Federal_Funds_Effective_Rate_cleaned.csv\",\n",
    "    \"GDP\": r\"C:\\Users\\AKKem\\OneDrive\\Desktop\\Data Analysis Modules\\Projects\\Economic_Trend_Analysis\\Resources\\GDP_cleaned.csv\",\n",
    "    \"Median_CPI\": r\"C:\\Users\\AKKem\\OneDrive\\Desktop\\Data Analysis Modules\\Projects\\Economic_Trend_Analysis\\Resources\\Median_CPI_cleaned.csv\",\n",
    "    \"S&P500_CSV\": r\"C:\\Users\\AKKem\\OneDrive\\Desktop\\Data Analysis Modules\\Projects\\Economic_Trend_Analysis\\Resources\\sp500_yahoo_cleaned.csv\",\n",
    "    \"Unemployment_Rate\": r\"C:\\Users\\AKKem\\OneDrive\\Desktop\\Data Analysis Modules\\Projects\\Economic_Trend_Analysis\\Resources\\unemployment_rate_cleaned.csv\"\n",
    "}\n",
    "\n",
    "# Save cleaned datasets\n",
    "federal_funds_rate.to_csv(output_paths[\"Federal_Funds_Effective_Rate\"], index=False)\n",
    "gdp.to_csv(output_paths[\"GDP\"], index=False)\n",
    "median_cpi.to_csv(output_paths[\"Median_CPI\"], index=False)\n",
    "sp500.to_csv(output_paths[\"S&P500_CSV\"], index=False)\n",
    "unemployment_rate.to_csv(output_paths[\"Unemployment_Rate\"], index=False)\n",
    "\n",
    "print(\"All cleaned files have been saved successfully to the Resources folder!\")"
   ]
  },
  {
   "cell_type": "markdown",
   "id": "2c3a1b8d",
   "metadata": {},
   "source": [
    "### Exploratory Data Analysis"
   ]
  },
  {
   "cell_type": "code",
   "execution_count": null,
   "id": "1131774c",
   "metadata": {},
   "outputs": [],
   "source": []
  }
 ],
 "metadata": {
  "kernelspec": {
   "display_name": "Python 3 (ipykernel)",
   "language": "python",
   "name": "python3"
  },
  "language_info": {
   "codemirror_mode": {
    "name": "ipython",
    "version": 3
   },
   "file_extension": ".py",
   "mimetype": "text/x-python",
   "name": "python",
   "nbconvert_exporter": "python",
   "pygments_lexer": "ipython3",
   "version": "3.10.13"
  }
 },
 "nbformat": 4,
 "nbformat_minor": 5
}
